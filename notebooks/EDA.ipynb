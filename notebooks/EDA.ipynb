{
 "cells": [
  {
   "cell_type": "code",
   "execution_count": null,
   "id": "601e431d",
   "metadata": {
    "vscode": {
     "languageId": "plaintext"
    }
   },
   "outputs": [],
   "source": [
    "import pandas as p\n",
    "import plot;y.express as px\n",
    "df = pd.read_csv(\"vehicles.csv\")\n",
    "df.head()\n",
    "\n",
    "px.histogram(df, x=\"year\", color=\"make\", title=\"Distribution of Vehicle Years by Make\").show()\n",
    "\n",
    "px.scatter(df, x=\"year\", y=\"mileage\", color=\"make\", title=\"Mileage vs Year by Make\").show()\n"
   ]
  }
 ],
 "metadata": {
  "language_info": {
   "name": "python"
  }
 },
 "nbformat": 4,
 "nbformat_minor": 5
}
